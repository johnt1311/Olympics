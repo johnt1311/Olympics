{
 "metadata": {
  "language_info": {
   "codemirror_mode": {
    "name": "ipython",
    "version": 3
   },
   "file_extension": ".py",
   "mimetype": "text/x-python",
   "name": "python",
   "nbconvert_exporter": "python",
   "pygments_lexer": "ipython3",
   "version": "3.7.10"
  },
  "orig_nbformat": 4,
  "kernelspec": {
   "name": "python3",
   "display_name": "Python 3.7.10 64-bit ('mlenv': conda)"
  },
  "interpreter": {
   "hash": "62479c27c4a62dbeee051a6978aa30762f6d540183c07f2f567557e7f85cb4c0"
  }
 },
 "nbformat": 4,
 "nbformat_minor": 2,
 "cells": [
  {
   "cell_type": "code",
   "execution_count": 10,
   "metadata": {},
   "outputs": [],
   "source": [
    "from splinter import Browser\n",
    "from bs4 import BeautifulSoup as soup\n",
    "from webdriver_manager.chrome import ChromeDriverManager\n",
    "import pandas as pd"
   ]
  },
  {
   "cell_type": "code",
   "execution_count": 2,
   "metadata": {},
   "outputs": [
    {
     "output_type": "stream",
     "name": "stderr",
     "text": [
      "\n",
      "\n",
      "====== WebDriver manager ======\n",
      "Current google-chrome version is 91.0.4472\n",
      "Get LATEST driver version for 91.0.4472\n",
      "Get LATEST driver version for 91.0.4472\n",
      "Trying to download new driver from https://chromedriver.storage.googleapis.com/91.0.4472.101/chromedriver_win32.zip\n",
      "Driver has been saved in cache [C:\\Users\\tgrah\\.wdm\\drivers\\chromedriver\\win32\\91.0.4472.101]\n"
     ]
    }
   ],
   "source": [
    "# Set up Splinter\n",
    "executable_path = {'executable_path': ChromeDriverManager().install()}\n",
    "browser = Browser('chrome', **executable_path, headless=False)"
   ]
  },
  {
   "cell_type": "code",
   "execution_count": 4,
   "metadata": {},
   "outputs": [],
   "source": [
    "# go to website to scrape\n",
    "url = \"https://www.olympedia.org/editions\"\n",
    "browser.visit(url)\n",
    "\n",
    "# parse HTML\n",
    "html = browser.html\n",
    "html_soup = soup(html, 'html.parser')"
   ]
  },
  {
   "cell_type": "code",
   "execution_count": 11,
   "metadata": {},
   "outputs": [],
   "source": [
    "# read html with pandas (bs4 and parser working on backend)\n",
    "test_df = pd.read_html(url) # returs list of all tables on the page"
   ]
  },
  {
   "cell_type": "code",
   "execution_count": 12,
   "metadata": {},
   "outputs": [
    {
     "output_type": "stream",
     "name": "stdout",
     "text": [
      "Total tables: 8\n"
     ]
    }
   ],
   "source": [
    "print(f'Total tables: {len(test_df)}')"
   ]
  },
  {
   "cell_type": "code",
   "execution_count": 97,
   "metadata": {},
   "outputs": [],
   "source": [
    "# NOTE: code below could also be used to pull Winter from the winter table \n",
    "# look for tables with Tokyo\n",
    "table_tokyo = pd.read_html(url, match=\"Tokyo\", converters={\"City\":str})\n",
    "# len(table_tokyo) # returns 1 so that is the table that we want"
   ]
  },
  {
   "cell_type": "code",
   "execution_count": 98,
   "metadata": {},
   "outputs": [
    {
     "output_type": "execute_result",
     "data": {
      "text/plain": [
       "     #  Year       City  Country   Opened    Closed              Competition  \\\n",
       "0    I  1896     Athina      NaN  6 April  15 April           6 â 13 April   \n",
       "1   II  1900      Paris      NaN      NaN       NaN    14 May â 28 October   \n",
       "2  III  1904  St. Louis      NaN   14 May       NaN   1 July â 23 November   \n",
       "3   IV  1908     London      NaN  13 July       NaN  27 April â 31 October   \n",
       "4    V  1912  Stockholm      NaN   6 July   27 July        5 May â 27 July   \n",
       "\n",
       "  Unnamed: 7  \n",
       "0        NaN  \n",
       "1        NaN  \n",
       "2        NaN  \n",
       "3        NaN  \n",
       "4        NaN  "
      ],
      "text/html": "<div>\n<style scoped>\n    .dataframe tbody tr th:only-of-type {\n        vertical-align: middle;\n    }\n\n    .dataframe tbody tr th {\n        vertical-align: top;\n    }\n\n    .dataframe thead th {\n        text-align: right;\n    }\n</style>\n<table border=\"1\" class=\"dataframe\">\n  <thead>\n    <tr style=\"text-align: right;\">\n      <th></th>\n      <th>#</th>\n      <th>Year</th>\n      <th>City</th>\n      <th>Country</th>\n      <th>Opened</th>\n      <th>Closed</th>\n      <th>Competition</th>\n      <th>Unnamed: 7</th>\n    </tr>\n  </thead>\n  <tbody>\n    <tr>\n      <th>0</th>\n      <td>I</td>\n      <td>1896</td>\n      <td>Athina</td>\n      <td>NaN</td>\n      <td>6 April</td>\n      <td>15 April</td>\n      <td>6 â 13 April</td>\n      <td>NaN</td>\n    </tr>\n    <tr>\n      <th>1</th>\n      <td>II</td>\n      <td>1900</td>\n      <td>Paris</td>\n      <td>NaN</td>\n      <td>NaN</td>\n      <td>NaN</td>\n      <td>14 May â 28 October</td>\n      <td>NaN</td>\n    </tr>\n    <tr>\n      <th>2</th>\n      <td>III</td>\n      <td>1904</td>\n      <td>St. Louis</td>\n      <td>NaN</td>\n      <td>14 May</td>\n      <td>NaN</td>\n      <td>1 July â 23 November</td>\n      <td>NaN</td>\n    </tr>\n    <tr>\n      <th>3</th>\n      <td>IV</td>\n      <td>1908</td>\n      <td>London</td>\n      <td>NaN</td>\n      <td>13 July</td>\n      <td>NaN</td>\n      <td>27 April â 31 October</td>\n      <td>NaN</td>\n    </tr>\n    <tr>\n      <th>4</th>\n      <td>V</td>\n      <td>1912</td>\n      <td>Stockholm</td>\n      <td>NaN</td>\n      <td>6 July</td>\n      <td>27 July</td>\n      <td>5 May â 27 July</td>\n      <td>NaN</td>\n    </tr>\n  </tbody>\n</table>\n</div>"
     },
     "metadata": {},
     "execution_count": 98
    }
   ],
   "source": [
    "# read table as DF\n",
    "sum_olympic_org = table_tokyo[0]\n",
    "sum_olympic_org.head()\n",
    "\n",
    "# NOTE: country coming in as NaN because it is a picture of a flag. Scrape country codes from the img tags. "
   ]
  },
  {
   "cell_type": "code",
   "execution_count": 99,
   "metadata": {},
   "outputs": [],
   "source": [
    "# trying to get the country codes\n",
    "# get the image tag from the correct column in the first table\n",
    "# set table reference\n",
    "table_to_scrape = html_soup.find_all('table')[0]\n",
    "\n",
    "# for td in html_soup.find_all('td'):\n",
    "#     if td.img:\n",
    "#         print(td.img['src'])\n",
    "\n",
    "# get table rows\n",
    "table_body = table_to_scrape.find_all('tr')\n"
   ]
  },
  {
   "cell_type": "code",
   "execution_count": 100,
   "metadata": {},
   "outputs": [],
   "source": [
    "# get number of rows in the table\n",
    "body_rows = table_body[0:]\n",
    "# len(body_rows)"
   ]
  },
  {
   "cell_type": "code",
   "execution_count": 101,
   "metadata": {},
   "outputs": [],
   "source": [
    "# loop through rows and get the image source tags\n",
    "\n",
    "\n",
    "# define empty list to hold the src tags\n",
    "flag_images = []\n",
    "\n",
    "# set row number to pass to table_body[]\n",
    "for row_num in range(len(body_rows)):\n",
    "\n",
    "    # loop through each row in the table body and find all rows\n",
    "    for row in table_body[row_num].find_all('td'):\n",
    "         \n",
    "        # check to see if the row has an img tag \n",
    "        if row.img:\n",
    "            # append the img src tag to a list\n",
    "            flag_images.append(row.img['src'])"
   ]
  },
  {
   "cell_type": "code",
   "execution_count": 102,
   "metadata": {},
   "outputs": [],
   "source": [
    "# use regex to get the country code from the img src\n",
    "import re\n",
    "country_codes = []\n",
    "# loop through list and pull 3 alphanumeric before '.'\n",
    "for src in flag_images:\n",
    "    code = re.findall(r\"(\\w{3})\\.\", src) # maybe not the most efficient way but all the strings were the same so took a shot at it\n",
    "    # append to list\n",
    "    country_codes.append(code)"
   ]
  },
  {
   "cell_type": "code",
   "execution_count": 103,
   "metadata": {},
   "outputs": [],
   "source": [
    "# regex loop returned a list of lists so extract into single list\n",
    "country_codes = [x[0] for x in country_codes]"
   ]
  },
  {
   "cell_type": "code",
   "execution_count": 104,
   "metadata": {},
   "outputs": [
    {
     "output_type": "execute_result",
     "data": {
      "text/plain": [
       "   Year       City  Country\n",
       "0  1896     Athina      NaN\n",
       "1  1900      Paris      NaN\n",
       "2  1904  St. Louis      NaN\n",
       "3  1908     London      NaN\n",
       "4  1912  Stockholm      NaN"
      ],
      "text/html": "<div>\n<style scoped>\n    .dataframe tbody tr th:only-of-type {\n        vertical-align: middle;\n    }\n\n    .dataframe tbody tr th {\n        vertical-align: top;\n    }\n\n    .dataframe thead th {\n        text-align: right;\n    }\n</style>\n<table border=\"1\" class=\"dataframe\">\n  <thead>\n    <tr style=\"text-align: right;\">\n      <th></th>\n      <th>Year</th>\n      <th>City</th>\n      <th>Country</th>\n    </tr>\n  </thead>\n  <tbody>\n    <tr>\n      <th>0</th>\n      <td>1896</td>\n      <td>Athina</td>\n      <td>NaN</td>\n    </tr>\n    <tr>\n      <th>1</th>\n      <td>1900</td>\n      <td>Paris</td>\n      <td>NaN</td>\n    </tr>\n    <tr>\n      <th>2</th>\n      <td>1904</td>\n      <td>St. Louis</td>\n      <td>NaN</td>\n    </tr>\n    <tr>\n      <th>3</th>\n      <td>1908</td>\n      <td>London</td>\n      <td>NaN</td>\n    </tr>\n    <tr>\n      <th>4</th>\n      <td>1912</td>\n      <td>Stockholm</td>\n      <td>NaN</td>\n    </tr>\n  </tbody>\n</table>\n</div>"
     },
     "metadata": {},
     "execution_count": 104
    }
   ],
   "source": [
    "# get rid of columns we don't need\n",
    "sum_olympic_cln = sum_olympic_org[['Year', 'City', 'Country']].copy()\n",
    "sum_olympic_cln.head()"
   ]
  },
  {
   "cell_type": "code",
   "execution_count": 105,
   "metadata": {},
   "outputs": [
    {
     "output_type": "execute_result",
     "data": {
      "text/plain": [
       "   Year       City Country\n",
       "0  1896     Athina     GRE\n",
       "1  1900      Paris     FRA\n",
       "2  1904  St. Louis     USA\n",
       "3  1908     London     GBR\n",
       "4  1912  Stockholm     SWE"
      ],
      "text/html": "<div>\n<style scoped>\n    .dataframe tbody tr th:only-of-type {\n        vertical-align: middle;\n    }\n\n    .dataframe tbody tr th {\n        vertical-align: top;\n    }\n\n    .dataframe thead th {\n        text-align: right;\n    }\n</style>\n<table border=\"1\" class=\"dataframe\">\n  <thead>\n    <tr style=\"text-align: right;\">\n      <th></th>\n      <th>Year</th>\n      <th>City</th>\n      <th>Country</th>\n    </tr>\n  </thead>\n  <tbody>\n    <tr>\n      <th>0</th>\n      <td>1896</td>\n      <td>Athina</td>\n      <td>GRE</td>\n    </tr>\n    <tr>\n      <th>1</th>\n      <td>1900</td>\n      <td>Paris</td>\n      <td>FRA</td>\n    </tr>\n    <tr>\n      <th>2</th>\n      <td>1904</td>\n      <td>St. Louis</td>\n      <td>USA</td>\n    </tr>\n    <tr>\n      <th>3</th>\n      <td>1908</td>\n      <td>London</td>\n      <td>GBR</td>\n    </tr>\n    <tr>\n      <th>4</th>\n      <td>1912</td>\n      <td>Stockholm</td>\n      <td>SWE</td>\n    </tr>\n  </tbody>\n</table>\n</div>"
     },
     "metadata": {},
     "execution_count": 105
    }
   ],
   "source": [
    "# replace the NaNs in the Country column with country_codes list\n",
    "sum_olympic_cln['Country'] = country_codes\n",
    "sum_olympic_cln.head()"
   ]
  },
  {
   "cell_type": "code",
   "execution_count": 109,
   "metadata": {},
   "outputs": [
    {
     "output_type": "stream",
     "name": "stdout",
     "text": [
      "<class 'pandas.core.frame.DataFrame'>\nRangeIndex: 34 entries, 0 to 33\nData columns (total 3 columns):\n #   Column   Non-Null Count  Dtype \n---  ------   --------------  ----- \n 0   Year     34 non-null     int64 \n 1   City     34 non-null     object\n 2   Country  34 non-null     object\ndtypes: int64(1), object(2)\nmemory usage: 944.0+ bytes\n"
     ]
    }
   ],
   "source": [
    "# check DF\n",
    "sum_olympic_cln.info()"
   ]
  },
  {
   "cell_type": "code",
   "execution_count": 111,
   "metadata": {},
   "outputs": [
    {
     "output_type": "execute_result",
     "data": {
      "text/plain": [
       "    Year               City Country\n",
       "17  1964              Tokyo     JPN\n",
       "18  1968  Ciudad de MÃ©xico     MEX\n",
       "19  1972           MÃ¼nchen     FRG\n",
       "20  1976          MontrÃ©al     CAN\n",
       "21  1980             Moskva     URS\n",
       "22  1984        Los Angeles     USA\n",
       "23  1988              Seoul     KOR\n",
       "24  1992          Barcelona     ESP\n",
       "25  1996            Atlanta     USA\n",
       "26  2000             Sydney     AUS\n",
       "27  2004             Athina     GRE\n",
       "28  2008            Beijing     CHN\n",
       "29  2012             London     GBR\n",
       "30  2016     Rio de Janeiro     BRA"
      ],
      "text/html": "<div>\n<style scoped>\n    .dataframe tbody tr th:only-of-type {\n        vertical-align: middle;\n    }\n\n    .dataframe tbody tr th {\n        vertical-align: top;\n    }\n\n    .dataframe thead th {\n        text-align: right;\n    }\n</style>\n<table border=\"1\" class=\"dataframe\">\n  <thead>\n    <tr style=\"text-align: right;\">\n      <th></th>\n      <th>Year</th>\n      <th>City</th>\n      <th>Country</th>\n    </tr>\n  </thead>\n  <tbody>\n    <tr>\n      <th>17</th>\n      <td>1964</td>\n      <td>Tokyo</td>\n      <td>JPN</td>\n    </tr>\n    <tr>\n      <th>18</th>\n      <td>1968</td>\n      <td>Ciudad de MÃ©xico</td>\n      <td>MEX</td>\n    </tr>\n    <tr>\n      <th>19</th>\n      <td>1972</td>\n      <td>MÃ¼nchen</td>\n      <td>FRG</td>\n    </tr>\n    <tr>\n      <th>20</th>\n      <td>1976</td>\n      <td>MontrÃ©al</td>\n      <td>CAN</td>\n    </tr>\n    <tr>\n      <th>21</th>\n      <td>1980</td>\n      <td>Moskva</td>\n      <td>URS</td>\n    </tr>\n    <tr>\n      <th>22</th>\n      <td>1984</td>\n      <td>Los Angeles</td>\n      <td>USA</td>\n    </tr>\n    <tr>\n      <th>23</th>\n      <td>1988</td>\n      <td>Seoul</td>\n      <td>KOR</td>\n    </tr>\n    <tr>\n      <th>24</th>\n      <td>1992</td>\n      <td>Barcelona</td>\n      <td>ESP</td>\n    </tr>\n    <tr>\n      <th>25</th>\n      <td>1996</td>\n      <td>Atlanta</td>\n      <td>USA</td>\n    </tr>\n    <tr>\n      <th>26</th>\n      <td>2000</td>\n      <td>Sydney</td>\n      <td>AUS</td>\n    </tr>\n    <tr>\n      <th>27</th>\n      <td>2004</td>\n      <td>Athina</td>\n      <td>GRE</td>\n    </tr>\n    <tr>\n      <th>28</th>\n      <td>2008</td>\n      <td>Beijing</td>\n      <td>CHN</td>\n    </tr>\n    <tr>\n      <th>29</th>\n      <td>2012</td>\n      <td>London</td>\n      <td>GBR</td>\n    </tr>\n    <tr>\n      <th>30</th>\n      <td>2016</td>\n      <td>Rio de Janeiro</td>\n      <td>BRA</td>\n    </tr>\n  </tbody>\n</table>\n</div>"
     },
     "metadata": {},
     "execution_count": 111
    }
   ],
   "source": [
    "# get rid of everything before 1964 and after 2016\n",
    "analysis_years = sum_olympic_cln.copy()\n",
    "analysis_years.drop(analysis_years[(analysis_years['Year'] < 1964) | (analysis_years['Year'] > 2016)].index, inplace=True)"
   ]
  },
  {
   "cell_type": "code",
   "execution_count": null,
   "metadata": {},
   "outputs": [],
   "source": []
  },
  {
   "source": [
    "# Moving to individual year medals pages\n",
    "1 - navigate to correct page\n",
    "\n",
    "2 - locate medal table\n",
    "\n",
    "3 - load medal table as DF with index as the year\n",
    "\n",
    "4 - merge with the summer olympic table - "
   ],
   "cell_type": "markdown",
   "metadata": {}
  },
  {
   "cell_type": "code",
   "execution_count": 117,
   "metadata": {},
   "outputs": [],
   "source": [
    "# get years into a list so you can use them for href and click\n",
    "years_list = analysis_years['Year'].tolist()\n",
    "\n",
    "# years are int - need them to be string to pass to scraping loop so convert\n",
    "years_list = [str(x) for x in years_list]"
   ]
  },
  {
   "cell_type": "code",
   "execution_count": 157,
   "metadata": {},
   "outputs": [],
   "source": [
    "# from xpath we know the table row to start is 18 \n",
    "# browser.find_by_xpath('/html/body/div[2]/table[1]/tbody/tr[18]/td[2]/a'). click() # this also works but is less understandable\n",
    "\n",
    "# NOTE: according to this link https://stackoverflow.com/questions/13784192/creating-an-empty-pandas-dataframe-then-filling-it it is not a good idea to append dataframes in a loop. Working on scraping to lists or dictionaries and then turning into dataframe but this loop should work despite it being memory intensive if we need to use it. \n",
    "\n",
    "# create the first dataframe - 1964\n",
    "# complete_medals_table = Data - was going to create a blank dataframe to append to but apparently that's not a good idea\n",
    "\n",
    "# test list = successful for 2 years\n",
    "test_years = ['1964', '1968']\n",
    "\n",
    "# set iterator\n",
    "counter = 0\n",
    "\n",
    "# df dictionary - testing\n",
    "# https://stackoverflow.com/questions/30233982/merge-dataframes-in-a-dictionary\n",
    "\n",
    "all_years = {}\n",
    "\n",
    "# start for loop to get all of the year medal tables\n",
    "for year in years_list: # change back to years_list when testing complete\n",
    "\n",
    "    browser.find_by_text(year).click() # this works - loop step 1\n",
    "\n",
    "    # get page url - loop step 2\n",
    "    page_url = browser.url\n",
    "\n",
    "    # reset soup\n",
    "    # parse HTML\n",
    "    html = browser.html\n",
    "    html_soup = soup(html, 'html.parser')\n",
    "\n",
    "    # get all tables on the page as DFs \n",
    "    page_dfs = pd.read_html(page_url)\n",
    "    # print(f'Total tables: {len(page_dfs)}') # check number of tables on page - use for debugging\n",
    "\n",
    "    # get the medal table and load to DF\n",
    "    # medals_table = pd.read_html(page_url, match=\"NOC\")[0] # loop step 3\n",
    "    all_years[year] = pd.read_html(page_url, match=\"NOC\")[0] # loop step 3\n",
    "\n",
    "    # add column 'year' with the year of the games - loop step 4\n",
    "    # medals_table['Year'] = int(year)\n",
    "    all_years[year]['Year'] = int(year)\n",
    "\n",
    "    # rename the columns - loop step 5\n",
    "    medals_table.rename(columns={'NOC': 'Country', 'NOC.1': 'Country Code'}, inplace=True)\n",
    "    all_years[year].rename(columns={'NOC': 'Country', 'NOC.1': 'Country Code'}, inplace=True)\n",
    "\n",
    "    # NOTE: may get rid of this in favor of adding to dictionary and then appending.\n",
    "    # if this is the first year then just save as DF, otherwise append to the DF\n",
    "    # if counter != 0:\n",
    "        # medals_table = medals_table.append(medals_table, ignore_index=True)\n",
    "\n",
    "    # counter += 1\n",
    "\n",
    "    # go back to the main page\n",
    "    browser.back()\n",
    "\n",
    "browser.quit()"
   ]
  },
  {
   "cell_type": "code",
   "execution_count": 158,
   "metadata": {},
   "outputs": [
    {
     "output_type": "execute_result",
     "data": {
      "text/plain": [
       "14"
      ]
     },
     "metadata": {},
     "execution_count": 158
    }
   ],
   "source": [
    "# check that we pulled all years should = 14 - looks good so far\n",
    "len(all_years)"
   ]
  },
  {
   "cell_type": "code",
   "execution_count": 155,
   "metadata": {},
   "outputs": [
    {
     "output_type": "execute_result",
     "data": {
      "text/plain": [
       "                     Country Country Code  Gold  Silver  Bronze  Total  Year\n",
       "41             United States          USA    45      28      34    107  1968\n",
       "42              Soviet Union          URS    29      32      30     91  1968\n",
       "43                     Japan          JPN    11       7       7     25  1968\n",
       "44                   Hungary          HUN    10      10      12     32  1968\n",
       "45              East Germany          GDR     9       9       7     25  1968\n",
       "46                    France          FRA     7       3       5     15  1968\n",
       "47            Czechoslovakia          TCH     7       2       4     13  1968\n",
       "48              West Germany          FRG     5      11      10     26  1968\n",
       "49                 Australia          AUS     5       7       5     17  1968\n",
       "50             Great Britain          GBR     5       5       3     13  1968\n",
       "51                    Poland          POL     5       2      11     18  1968\n",
       "52                   Romania          ROU     4       6       5     15  1968\n",
       "53                     Italy          ITA     3       4       9     16  1968\n",
       "54                     Kenya          KEN     3       4       2      9  1968\n",
       "55                    Mexico          MEX     3       3       3      9  1968\n",
       "56                Yugoslavia          YUG     3       3       2      8  1968\n",
       "57               Netherlands          NED     3       3       1      7  1968\n",
       "58                  Bulgaria          BUL     2       4       3      9  1968\n",
       "59  Islamic Republic of Iran          IRI     2       1       2      5  1968\n",
       "60                    Sweden          SWE     2       1       1      4  1968\n",
       "61                    Turkey          TUR     2       0       0      2  1968\n",
       "62                   Denmark          DEN     1       4       3      8  1968\n",
       "63                    Canada          CAN     1       3       1      5  1968\n",
       "64                   Finland          FIN     1       2       1      4  1968\n",
       "65                  Ethiopia          ETH     1       1       0      2  1968\n",
       "66                    Norway          NOR     1       1       0      2  1968\n",
       "67               New Zealand          NZL     1       0       2      3  1968\n",
       "68                   Tunisia          TUN     1       0       1      2  1968\n",
       "69                  Pakistan          PAK     1       0       0      1  1968\n",
       "70                 Venezuela          VEN     1       0       0      1  1968\n",
       "71                      Cuba          CUB     0       4       0      4  1968\n",
       "72                   Austria          AUT     0       2       2      4  1968\n",
       "73               Switzerland          SUI     0       1       4      5  1968\n",
       "74                  Mongolia          MGL     0       1       3      4  1968\n",
       "75                    Brazil          BRA     0       1       2      3  1968\n",
       "76                   Belgium          BEL     0       1       1      2  1968\n",
       "77         Republic of Korea          KOR     0       1       1      2  1968\n",
       "78                    Uganda          UGA     0       1       1      2  1968\n",
       "79                  Cameroon          CMR     0       1       0      1  1968\n",
       "80                   Jamaica          JAM     0       1       0      1  1968\n",
       "81                 Argentina          ARG     0       0       2      2  1968\n",
       "82            Chinese Taipei          TPE     0       0       1      1  1968\n",
       "83                    Greece          GRE     0       0       1      1  1968\n",
       "84                     India          IND     0       0       1      1  1968"
      ],
      "text/html": "<div>\n<style scoped>\n    .dataframe tbody tr th:only-of-type {\n        vertical-align: middle;\n    }\n\n    .dataframe tbody tr th {\n        vertical-align: top;\n    }\n\n    .dataframe thead th {\n        text-align: right;\n    }\n</style>\n<table border=\"1\" class=\"dataframe\">\n  <thead>\n    <tr style=\"text-align: right;\">\n      <th></th>\n      <th>Country</th>\n      <th>Country Code</th>\n      <th>Gold</th>\n      <th>Silver</th>\n      <th>Bronze</th>\n      <th>Total</th>\n      <th>Year</th>\n    </tr>\n  </thead>\n  <tbody>\n    <tr>\n      <th>41</th>\n      <td>United States</td>\n      <td>USA</td>\n      <td>45</td>\n      <td>28</td>\n      <td>34</td>\n      <td>107</td>\n      <td>1968</td>\n    </tr>\n    <tr>\n      <th>42</th>\n      <td>Soviet Union</td>\n      <td>URS</td>\n      <td>29</td>\n      <td>32</td>\n      <td>30</td>\n      <td>91</td>\n      <td>1968</td>\n    </tr>\n    <tr>\n      <th>43</th>\n      <td>Japan</td>\n      <td>JPN</td>\n      <td>11</td>\n      <td>7</td>\n      <td>7</td>\n      <td>25</td>\n      <td>1968</td>\n    </tr>\n    <tr>\n      <th>44</th>\n      <td>Hungary</td>\n      <td>HUN</td>\n      <td>10</td>\n      <td>10</td>\n      <td>12</td>\n      <td>32</td>\n      <td>1968</td>\n    </tr>\n    <tr>\n      <th>45</th>\n      <td>East Germany</td>\n      <td>GDR</td>\n      <td>9</td>\n      <td>9</td>\n      <td>7</td>\n      <td>25</td>\n      <td>1968</td>\n    </tr>\n    <tr>\n      <th>46</th>\n      <td>France</td>\n      <td>FRA</td>\n      <td>7</td>\n      <td>3</td>\n      <td>5</td>\n      <td>15</td>\n      <td>1968</td>\n    </tr>\n    <tr>\n      <th>47</th>\n      <td>Czechoslovakia</td>\n      <td>TCH</td>\n      <td>7</td>\n      <td>2</td>\n      <td>4</td>\n      <td>13</td>\n      <td>1968</td>\n    </tr>\n    <tr>\n      <th>48</th>\n      <td>West Germany</td>\n      <td>FRG</td>\n      <td>5</td>\n      <td>11</td>\n      <td>10</td>\n      <td>26</td>\n      <td>1968</td>\n    </tr>\n    <tr>\n      <th>49</th>\n      <td>Australia</td>\n      <td>AUS</td>\n      <td>5</td>\n      <td>7</td>\n      <td>5</td>\n      <td>17</td>\n      <td>1968</td>\n    </tr>\n    <tr>\n      <th>50</th>\n      <td>Great Britain</td>\n      <td>GBR</td>\n      <td>5</td>\n      <td>5</td>\n      <td>3</td>\n      <td>13</td>\n      <td>1968</td>\n    </tr>\n    <tr>\n      <th>51</th>\n      <td>Poland</td>\n      <td>POL</td>\n      <td>5</td>\n      <td>2</td>\n      <td>11</td>\n      <td>18</td>\n      <td>1968</td>\n    </tr>\n    <tr>\n      <th>52</th>\n      <td>Romania</td>\n      <td>ROU</td>\n      <td>4</td>\n      <td>6</td>\n      <td>5</td>\n      <td>15</td>\n      <td>1968</td>\n    </tr>\n    <tr>\n      <th>53</th>\n      <td>Italy</td>\n      <td>ITA</td>\n      <td>3</td>\n      <td>4</td>\n      <td>9</td>\n      <td>16</td>\n      <td>1968</td>\n    </tr>\n    <tr>\n      <th>54</th>\n      <td>Kenya</td>\n      <td>KEN</td>\n      <td>3</td>\n      <td>4</td>\n      <td>2</td>\n      <td>9</td>\n      <td>1968</td>\n    </tr>\n    <tr>\n      <th>55</th>\n      <td>Mexico</td>\n      <td>MEX</td>\n      <td>3</td>\n      <td>3</td>\n      <td>3</td>\n      <td>9</td>\n      <td>1968</td>\n    </tr>\n    <tr>\n      <th>56</th>\n      <td>Yugoslavia</td>\n      <td>YUG</td>\n      <td>3</td>\n      <td>3</td>\n      <td>2</td>\n      <td>8</td>\n      <td>1968</td>\n    </tr>\n    <tr>\n      <th>57</th>\n      <td>Netherlands</td>\n      <td>NED</td>\n      <td>3</td>\n      <td>3</td>\n      <td>1</td>\n      <td>7</td>\n      <td>1968</td>\n    </tr>\n    <tr>\n      <th>58</th>\n      <td>Bulgaria</td>\n      <td>BUL</td>\n      <td>2</td>\n      <td>4</td>\n      <td>3</td>\n      <td>9</td>\n      <td>1968</td>\n    </tr>\n    <tr>\n      <th>59</th>\n      <td>Islamic Republic of Iran</td>\n      <td>IRI</td>\n      <td>2</td>\n      <td>1</td>\n      <td>2</td>\n      <td>5</td>\n      <td>1968</td>\n    </tr>\n    <tr>\n      <th>60</th>\n      <td>Sweden</td>\n      <td>SWE</td>\n      <td>2</td>\n      <td>1</td>\n      <td>1</td>\n      <td>4</td>\n      <td>1968</td>\n    </tr>\n    <tr>\n      <th>61</th>\n      <td>Turkey</td>\n      <td>TUR</td>\n      <td>2</td>\n      <td>0</td>\n      <td>0</td>\n      <td>2</td>\n      <td>1968</td>\n    </tr>\n    <tr>\n      <th>62</th>\n      <td>Denmark</td>\n      <td>DEN</td>\n      <td>1</td>\n      <td>4</td>\n      <td>3</td>\n      <td>8</td>\n      <td>1968</td>\n    </tr>\n    <tr>\n      <th>63</th>\n      <td>Canada</td>\n      <td>CAN</td>\n      <td>1</td>\n      <td>3</td>\n      <td>1</td>\n      <td>5</td>\n      <td>1968</td>\n    </tr>\n    <tr>\n      <th>64</th>\n      <td>Finland</td>\n      <td>FIN</td>\n      <td>1</td>\n      <td>2</td>\n      <td>1</td>\n      <td>4</td>\n      <td>1968</td>\n    </tr>\n    <tr>\n      <th>65</th>\n      <td>Ethiopia</td>\n      <td>ETH</td>\n      <td>1</td>\n      <td>1</td>\n      <td>0</td>\n      <td>2</td>\n      <td>1968</td>\n    </tr>\n    <tr>\n      <th>66</th>\n      <td>Norway</td>\n      <td>NOR</td>\n      <td>1</td>\n      <td>1</td>\n      <td>0</td>\n      <td>2</td>\n      <td>1968</td>\n    </tr>\n    <tr>\n      <th>67</th>\n      <td>New Zealand</td>\n      <td>NZL</td>\n      <td>1</td>\n      <td>0</td>\n      <td>2</td>\n      <td>3</td>\n      <td>1968</td>\n    </tr>\n    <tr>\n      <th>68</th>\n      <td>Tunisia</td>\n      <td>TUN</td>\n      <td>1</td>\n      <td>0</td>\n      <td>1</td>\n      <td>2</td>\n      <td>1968</td>\n    </tr>\n    <tr>\n      <th>69</th>\n      <td>Pakistan</td>\n      <td>PAK</td>\n      <td>1</td>\n      <td>0</td>\n      <td>0</td>\n      <td>1</td>\n      <td>1968</td>\n    </tr>\n    <tr>\n      <th>70</th>\n      <td>Venezuela</td>\n      <td>VEN</td>\n      <td>1</td>\n      <td>0</td>\n      <td>0</td>\n      <td>1</td>\n      <td>1968</td>\n    </tr>\n    <tr>\n      <th>71</th>\n      <td>Cuba</td>\n      <td>CUB</td>\n      <td>0</td>\n      <td>4</td>\n      <td>0</td>\n      <td>4</td>\n      <td>1968</td>\n    </tr>\n    <tr>\n      <th>72</th>\n      <td>Austria</td>\n      <td>AUT</td>\n      <td>0</td>\n      <td>2</td>\n      <td>2</td>\n      <td>4</td>\n      <td>1968</td>\n    </tr>\n    <tr>\n      <th>73</th>\n      <td>Switzerland</td>\n      <td>SUI</td>\n      <td>0</td>\n      <td>1</td>\n      <td>4</td>\n      <td>5</td>\n      <td>1968</td>\n    </tr>\n    <tr>\n      <th>74</th>\n      <td>Mongolia</td>\n      <td>MGL</td>\n      <td>0</td>\n      <td>1</td>\n      <td>3</td>\n      <td>4</td>\n      <td>1968</td>\n    </tr>\n    <tr>\n      <th>75</th>\n      <td>Brazil</td>\n      <td>BRA</td>\n      <td>0</td>\n      <td>1</td>\n      <td>2</td>\n      <td>3</td>\n      <td>1968</td>\n    </tr>\n    <tr>\n      <th>76</th>\n      <td>Belgium</td>\n      <td>BEL</td>\n      <td>0</td>\n      <td>1</td>\n      <td>1</td>\n      <td>2</td>\n      <td>1968</td>\n    </tr>\n    <tr>\n      <th>77</th>\n      <td>Republic of Korea</td>\n      <td>KOR</td>\n      <td>0</td>\n      <td>1</td>\n      <td>1</td>\n      <td>2</td>\n      <td>1968</td>\n    </tr>\n    <tr>\n      <th>78</th>\n      <td>Uganda</td>\n      <td>UGA</td>\n      <td>0</td>\n      <td>1</td>\n      <td>1</td>\n      <td>2</td>\n      <td>1968</td>\n    </tr>\n    <tr>\n      <th>79</th>\n      <td>Cameroon</td>\n      <td>CMR</td>\n      <td>0</td>\n      <td>1</td>\n      <td>0</td>\n      <td>1</td>\n      <td>1968</td>\n    </tr>\n    <tr>\n      <th>80</th>\n      <td>Jamaica</td>\n      <td>JAM</td>\n      <td>0</td>\n      <td>1</td>\n      <td>0</td>\n      <td>1</td>\n      <td>1968</td>\n    </tr>\n    <tr>\n      <th>81</th>\n      <td>Argentina</td>\n      <td>ARG</td>\n      <td>0</td>\n      <td>0</td>\n      <td>2</td>\n      <td>2</td>\n      <td>1968</td>\n    </tr>\n    <tr>\n      <th>82</th>\n      <td>Chinese Taipei</td>\n      <td>TPE</td>\n      <td>0</td>\n      <td>0</td>\n      <td>1</td>\n      <td>1</td>\n      <td>1968</td>\n    </tr>\n    <tr>\n      <th>83</th>\n      <td>Greece</td>\n      <td>GRE</td>\n      <td>0</td>\n      <td>0</td>\n      <td>1</td>\n      <td>1</td>\n      <td>1968</td>\n    </tr>\n    <tr>\n      <th>84</th>\n      <td>India</td>\n      <td>IND</td>\n      <td>0</td>\n      <td>0</td>\n      <td>1</td>\n      <td>1</td>\n      <td>1968</td>\n    </tr>\n  </tbody>\n</table>\n</div>"
     },
     "metadata": {},
     "execution_count": 155
    }
   ],
   "source": [
    "# doing some testing here - it looks like the dictionary method is going to work\n",
    "append_years = all_years['1964'].append(all_years['1968'], ignore_index=True)\n",
    "append_years_1968 = append_years[append_years['Year'] == 1968]\n",
    "append_years_1968"
   ]
  },
  {
   "cell_type": "code",
   "execution_count": 170,
   "metadata": {},
   "outputs": [
    {
     "output_type": "stream",
     "name": "stdout",
     "text": [
      "(865, 7)\n"
     ]
    }
   ],
   "source": [
    "complete_summer_data = pd.concat(all_years.values(), ignore_index=True)\n",
    "print(complete_summer_data.shape)\n",
    "complete_summer_data.Year.unique().tolist()\n",
    "complete_summer_data.head()"
   ]
  },
  {
   "cell_type": "code",
   "execution_count": 178,
   "metadata": {},
   "outputs": [],
   "source": [
    "# send to a csv to double check the data\n",
    "complete_summer_df.to_csv('complete_year_datascrape_07182021.csv')"
   ]
  },
  {
   "source": [
    "# Below is working on potentially parsing each table into a list and then making the dataframe from the list of lists. \n",
    "\n",
    "### NOTE: \n",
    "\n",
    "It looks like the loop above is going to work and I doubt we are going to get graded on the time the code takes to process but left the link and maybe this challenge in here if we want to do it the 'most effective' way.\n",
    "\n",
    "Maybe this would be an issue if we had more data but it didn't seem like an issue for the medals by year. \n",
    "\n",
    "link with good info on why not to append dataframes but not related to scraping \n",
    "- https://stackoverflow.com/questions/13784192/creating-an-empty-pandas-dataframe-then-filling-it \n",
    "\n",
    "## Ideas: Maybe pull tables with pd.read_html still and then send each column to a list with tolist(). Append those lists to a master list or dictionary, and then make a combined df with the data?"
   ],
   "cell_type": "markdown",
   "metadata": {}
  },
  {
   "cell_type": "code",
   "execution_count": 182,
   "metadata": {},
   "outputs": [],
   "source": [
    "# started some testing on scraping to lists\n",
    "\n",
    "# /html/body/div[2]/table[5]/thead/tr/th[1]\n",
    "url = \"https://www.olympedia.org/editions/16\"\n",
    "\n",
    "html = browser.html\n",
    "html_soup = soup(html, 'html.parser')\n",
    "\n",
    "# set table reference\n",
    "year_results_table = html_soup.find_all('table')[5]\n",
    "table_headers = []\n",
    "for year_results_table\n",
    "# get the table headers\n",
    "# set the headers as dictionary keys\n",
    "# append column values to the key:values\n",
    "# go to the next page and repeat\n",
    "# turn the dictionary into a dataframe\n"
   ]
  },
  {
   "cell_type": "code",
   "execution_count": null,
   "metadata": {},
   "outputs": [],
   "source": []
  }
 ]
}