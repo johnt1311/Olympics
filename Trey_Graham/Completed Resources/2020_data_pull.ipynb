{
 "cells": [
  {
   "cell_type": "code",
   "execution_count": 6,
   "metadata": {},
   "outputs": [],
   "source": [
    "# dependencies\r\n",
    "import pandas as pd\r\n",
    "import numpy as np\r\n",
    "import matplotlib.pyplot as plt\r\n",
    "import plotly.express as px\r\n",
    "\r\n",
    "from sklearn.model_selection import train_test_split\r\n",
    "from sklearn.linear_model import LinearRegression\r\n",
    "from sklearn import metrics\r\n",
    "\r\n",
    "from splinter import Browser\r\n",
    "from bs4 import BeautifulSoup as soup\r\n",
    "from webdriver_manager.chrome import ChromeDriverManager"
   ]
  },
  {
   "cell_type": "code",
   "execution_count": 7,
   "metadata": {},
   "outputs": [
    {
     "name": "stderr",
     "output_type": "stream",
     "text": [
      "\n",
      "\n",
      "====== WebDriver manager ======\n",
      "Current google-chrome version is 92.0.4515\n",
      "Get LATEST driver version for 92.0.4515\n",
      "Get LATEST driver version for 92.0.4515\n",
      "Trying to download new driver from https://chromedriver.storage.googleapis.com/92.0.4515.107/chromedriver_win32.zip\n",
      "Driver has been saved in cache [C:\\Users\\tgrah\\.wdm\\drivers\\chromedriver\\win32\\92.0.4515.107]\n"
     ]
    }
   ],
   "source": [
    "url = (\"https://www.olympedia.org/counts/edition/61\")\r\n",
    "\r\n",
    "# start browser\r\n",
    "executable_path = {'executable_path': ChromeDriverManager().install()}\r\n",
    "browser = Browser('chrome', **executable_path, headless=False)"
   ]
  },
  {
   "cell_type": "code",
   "execution_count": null,
   "metadata": {},
   "outputs": [],
   "source": []
  },
  {
   "cell_type": "code",
   "execution_count": null,
   "metadata": {},
   "outputs": [],
   "source": []
  },
  {
   "cell_type": "code",
   "execution_count": 8,
   "metadata": {},
   "outputs": [],
   "source": [
    "# define function to flatten list of lists\r\n",
    "def flatten_list(a_list):\r\n",
    "    flat_list = []\r\n",
    "    for element in a_list:\r\n",
    "        if type(element) is list:\r\n",
    "            for item in element:\r\n",
    "                flat_list.append(item)\r\n",
    "        else:\r\n",
    "            flat_list.append(element)\r\n",
    "    return flat_list"
   ]
  },
  {
   "cell_type": "code",
   "execution_count": null,
   "metadata": {},
   "outputs": [],
   "source": []
  },
  {
   "cell_type": "code",
   "execution_count": 11,
   "metadata": {},
   "outputs": [],
   "source": [
    "browser.visit(url)\r\n",
    "\r\n",
    "# get page url\r\n",
    "page_url = browser.url\r\n",
    "\r\n",
    "# reset soup\r\n",
    "# parse HTML\r\n",
    "html = browser.html\r\n",
    "html_soup = soup(html, 'html.parser')\r\n",
    "\r\n",
    "# set the year with a counter\r\n",
    "year = 2020\r\n",
    "# set table on the year page to the value of that year in a dictionary\r\n",
    "# should only be one table on the page to scrape\r\n",
    "comp_by_year = pd.read_html(page_url)[0]\r\n",
    "\r\n",
    "# reset header\r\n",
    "comp_by_year.columns = comp_by_year.iloc[0] \r\n",
    "# take every row after the first row\r\n",
    "comp_by_year = comp_by_year[1:]\r\n",
    "\r\n",
    "\r\n",
    "# reset the index\r\n",
    "comp_by_year.reset_index(inplace=True, drop=True)\r\n",
    "\r\n",
    "# create list of columns\r\n",
    "comp_cols = [0]\r\n",
    "\r\n",
    "# get the number of columns\r\n",
    "total_cols = len(comp_by_year.columns)\r\n",
    "# we wat the last 3 columns so subtract 3\r\n",
    "pull_cols = total_cols-3\r\n",
    "\r\n",
    "# add those columns to list for competition data\r\n",
    "comp_cols.append(list(range(pull_cols,total_cols)))\r\n",
    "# flatten the list\r\n",
    "comp_cols = flatten_list(comp_cols)\r\n",
    "# use list to pull the data we want from the df\r\n",
    "comp_by_year = comp_by_year.iloc[:, comp_cols]\r\n",
    "\r\n",
    "# drop the first row\r\n",
    "comp_by_year.drop(index=0, inplace=True)\r\n",
    "\r\n",
    "# rename the columns\r\n",
    "comp_by_year.columns = ['Country Code', 'Male', 'Female', 'Total']\r\n",
    "\r\n",
    "# append column with the year\r\n",
    "comp_by_year['Year'] = year"
   ]
  },
  {
   "cell_type": "code",
   "execution_count": 12,
   "metadata": {},
   "outputs": [
    {
     "data": {
      "text/html": [
       "<div>\n",
       "<style scoped>\n",
       "    .dataframe tbody tr th:only-of-type {\n",
       "        vertical-align: middle;\n",
       "    }\n",
       "\n",
       "    .dataframe tbody tr th {\n",
       "        vertical-align: top;\n",
       "    }\n",
       "\n",
       "    .dataframe thead th {\n",
       "        text-align: right;\n",
       "    }\n",
       "</style>\n",
       "<table border=\"1\" class=\"dataframe\">\n",
       "  <thead>\n",
       "    <tr style=\"text-align: right;\">\n",
       "      <th></th>\n",
       "      <th>Country Code</th>\n",
       "      <th>Male</th>\n",
       "      <th>Female</th>\n",
       "      <th>Total</th>\n",
       "      <th>Year</th>\n",
       "    </tr>\n",
       "  </thead>\n",
       "  <tbody>\n",
       "    <tr>\n",
       "      <th>1</th>\n",
       "      <td>AFG</td>\n",
       "      <td>4</td>\n",
       "      <td>2</td>\n",
       "      <td>6</td>\n",
       "      <td>2020</td>\n",
       "    </tr>\n",
       "    <tr>\n",
       "      <th>2</th>\n",
       "      <td>ALB</td>\n",
       "      <td>6</td>\n",
       "      <td>3</td>\n",
       "      <td>9</td>\n",
       "      <td>2020</td>\n",
       "    </tr>\n",
       "    <tr>\n",
       "      <th>3</th>\n",
       "      <td>ALG</td>\n",
       "      <td>31</td>\n",
       "      <td>13</td>\n",
       "      <td>44</td>\n",
       "      <td>2020</td>\n",
       "    </tr>\n",
       "    <tr>\n",
       "      <th>4</th>\n",
       "      <td>AND</td>\n",
       "      <td>1</td>\n",
       "      <td>1</td>\n",
       "      <td>2</td>\n",
       "      <td>2020</td>\n",
       "    </tr>\n",
       "    <tr>\n",
       "      <th>5</th>\n",
       "      <td>ANG</td>\n",
       "      <td>4</td>\n",
       "      <td>16</td>\n",
       "      <td>20</td>\n",
       "      <td>2020</td>\n",
       "    </tr>\n",
       "  </tbody>\n",
       "</table>\n",
       "</div>"
      ],
      "text/plain": [
       "  Country Code Male Female Total  Year\n",
       "1          AFG    4      2     6  2020\n",
       "2          ALB    6      3     9  2020\n",
       "3          ALG   31     13    44  2020\n",
       "4          AND    1      1     2  2020\n",
       "5          ANG    4     16    20  2020"
      ]
     },
     "execution_count": 12,
     "metadata": {},
     "output_type": "execute_result"
    }
   ],
   "source": [
    "comp_by_year.head()"
   ]
  },
  {
   "cell_type": "code",
   "execution_count": 13,
   "metadata": {},
   "outputs": [],
   "source": [
    "browser.quit()"
   ]
  },
  {
   "cell_type": "code",
   "execution_count": 17,
   "metadata": {},
   "outputs": [],
   "source": [
    "comp_by_year.replace('-', 0, inplace=True)"
   ]
  },
  {
   "cell_type": "code",
   "execution_count": 23,
   "metadata": {},
   "outputs": [
    {
     "name": "stderr",
     "output_type": "stream",
     "text": [
      "\n",
      "\n",
      "INFO:WDM:\n",
      "\n",
      "====== WebDriver manager ======\n",
      "INFO:WDM:====== WebDriver manager ======\n",
      "Current google-chrome version is 92.0.4515\n",
      "INFO:WDM:Current google-chrome version is 92.0.4515\n",
      "Get LATEST driver version for 92.0.4515\n",
      "INFO:WDM:Get LATEST driver version for 92.0.4515\n",
      "Driver [C:\\Users\\tgrah\\.wdm\\drivers\\chromedriver\\win32\\92.0.4515.107\\chromedriver.exe] found in cache\n",
      "INFO:WDM:Driver [C:\\Users\\tgrah\\.wdm\\drivers\\chromedriver\\win32\\92.0.4515.107\\chromedriver.exe] found in cache\n"
     ]
    },
    {
     "ename": "TypeError",
     "evalue": "can only concatenate str (not \"int\") to str",
     "output_type": "error",
     "traceback": [
      "\u001b[1;31m---------------------------------------------------------------------------\u001b[0m",
      "\u001b[1;31mTypeError\u001b[0m                                 Traceback (most recent call last)",
      "\u001b[1;32m<ipython-input-23-f108c77b3a91>\u001b[0m in \u001b[0;36m<module>\u001b[1;34m\u001b[0m\n\u001b[0;32m     19\u001b[0m \u001b[1;33m\u001b[0m\u001b[0m\n\u001b[0;32m     20\u001b[0m \u001b[0mbrowser\u001b[0m\u001b[1;33m.\u001b[0m\u001b[0mfind_by_text\u001b[0m\u001b[1;33m(\u001b[0m\u001b[0mfix_years\u001b[0m\u001b[1;33m)\u001b[0m\u001b[1;33m.\u001b[0m\u001b[0mclick\u001b[0m\u001b[1;33m(\u001b[0m\u001b[1;33m)\u001b[0m \u001b[1;31m# this works - loop step 1\u001b[0m\u001b[1;33m\u001b[0m\u001b[1;33m\u001b[0m\u001b[0m\n\u001b[1;32m---> 21\u001b[1;33m \u001b[0mprint\u001b[0m\u001b[1;33m(\u001b[0m\u001b[1;34m\"new olympics, going to...   \"\u001b[0m \u001b[1;33m+\u001b[0m \u001b[0myear\u001b[0m\u001b[1;33m)\u001b[0m\u001b[1;33m\u001b[0m\u001b[1;33m\u001b[0m\u001b[0m\n\u001b[0m",
      "\u001b[1;31mTypeError\u001b[0m: can only concatenate str (not \"int\") to str"
     ]
    }
   ],
   "source": [
    "# get the event results\r\n",
    "# go to website to scrape\r\n",
    "url = \"https://www.olympedia.org/editions\"\r\n",
    "\r\n",
    "\r\n",
    "# start browser\r\n",
    "executable_path = {'executable_path': ChromeDriverManager().install()}\r\n",
    "browser = Browser('chrome', **executable_path, headless=False)\r\n",
    "\r\n",
    "browser.visit(url)\r\n",
    "\r\n",
    "# parse HTML\r\n",
    "html = browser.html\r\n",
    "html_soup = soup(html, 'html.parser')\r\n",
    "\r\n",
    "fix_years = \"2020\"\r\n",
    "\r\n",
    "df_2020_events = pd.DataFrame()\r\n",
    "\r\n",
    "browser.find_by_text(fix_years).click() # this works - loop step 1\r\n",
    "print(\"new olympics, going to...   \" + fix_years)"
   ]
  },
  {
   "cell_type": "code",
   "execution_count": 24,
   "metadata": {},
   "outputs": [
    {
     "name": "stdout",
     "output_type": "stream",
     "text": [
      "https://www.olympedia.org/editions/61\n"
     ]
    }
   ],
   "source": [
    "# get page url - loop step 2\r\n",
    "page_url = browser.url\r\n",
    "print(page_url)\r\n",
    "# parse HTML\r\n",
    "html = browser.html\r\n",
    "html_soup = soup(html, 'html.parser')\r\n",
    "#test_disc_df = pd.read_html(url)\r\n",
    "table_disciplines = pd.read_html(page_url)\r\n",
    "other_disciplines = pd.read_html(page_url)"
   ]
  },
  {
   "cell_type": "code",
   "execution_count": 27,
   "metadata": {},
   "outputs": [],
   "source": [
    "#Gather List of Main Disciplines\r\n",
    "df_table_disciplines = pd.read_html(page_url)[2]\r\n",
    "if (year == '2020'):\r\n",
    "    print(\"----------its 2020-------------\")\r\n",
    "    df_table_disciplines = table_disciplines[2]\r\n",
    "#df_table_disciplines\r\n",
    "\r\n",
    "# df_table0 = df_table_disciplines[0]\r\n",
    "# df_table1 = df_table_disciplines[1]\r\n",
    "# df_table2 = df_table_disciplines[2]\r\n",
    "\r\n",
    "pieces = {\"1\": df_table0,\"2\": df_table1,\"3\": df_table2}\r\n",
    "df_table_disciplines = pd.concat(pieces)\r\n",
    "\r\n",
    "main_disciplines = df_table_disciplines.tolist()"
   ]
  },
  {
   "cell_type": "code",
   "execution_count": null,
   "metadata": {},
   "outputs": [],
   "source": [
    "df_disciplines_all = pd.DataFrame(main_disciplines)"
   ]
  },
  {
   "cell_type": "code",
   "execution_count": 28,
   "metadata": {},
   "outputs": [
    {
     "data": {
      "text/html": [
       "<div>\n",
       "<style scoped>\n",
       "    .dataframe tbody tr th:only-of-type {\n",
       "        vertical-align: middle;\n",
       "    }\n",
       "\n",
       "    .dataframe tbody tr th {\n",
       "        vertical-align: top;\n",
       "    }\n",
       "\n",
       "    .dataframe thead th {\n",
       "        text-align: right;\n",
       "    }\n",
       "</style>\n",
       "<table border=\"1\" class=\"dataframe\">\n",
       "  <thead>\n",
       "    <tr style=\"text-align: right;\">\n",
       "      <th></th>\n",
       "      <th>0</th>\n",
       "      <th>1</th>\n",
       "      <th>2</th>\n",
       "    </tr>\n",
       "  </thead>\n",
       "  <tbody>\n",
       "    <tr>\n",
       "      <th>0</th>\n",
       "      <td>3x3 Basketball</td>\n",
       "      <td>Cycling Road</td>\n",
       "      <td>Sailing</td>\n",
       "    </tr>\n",
       "    <tr>\n",
       "      <th>1</th>\n",
       "      <td>Archery</td>\n",
       "      <td>Cycling Track</td>\n",
       "      <td>Shooting</td>\n",
       "    </tr>\n",
       "    <tr>\n",
       "      <th>2</th>\n",
       "      <td>Artistic Gymnastics</td>\n",
       "      <td>Diving</td>\n",
       "      <td>Skateboarding</td>\n",
       "    </tr>\n",
       "    <tr>\n",
       "      <th>3</th>\n",
       "      <td>Artistic Swimming</td>\n",
       "      <td>Equestrian Dressage</td>\n",
       "      <td>Softball</td>\n",
       "    </tr>\n",
       "    <tr>\n",
       "      <th>4</th>\n",
       "      <td>Athletics</td>\n",
       "      <td>Equestrian Eventing</td>\n",
       "      <td>Sport Climbing</td>\n",
       "    </tr>\n",
       "  </tbody>\n",
       "</table>\n",
       "</div>"
      ],
      "text/plain": [
       "                     0                    1               2\n",
       "0       3x3 Basketball         Cycling Road         Sailing\n",
       "1              Archery        Cycling Track        Shooting\n",
       "2  Artistic Gymnastics               Diving   Skateboarding\n",
       "3    Artistic Swimming  Equestrian Dressage        Softball\n",
       "4            Athletics  Equestrian Eventing  Sport Climbing"
      ]
     },
     "execution_count": 28,
     "metadata": {},
     "output_type": "execute_result"
    }
   ],
   "source": [
    "df_table_disciplines.head()"
   ]
  },
  {
   "cell_type": "code",
   "execution_count": 29,
   "metadata": {},
   "outputs": [],
   "source": [
    "df_table0 = df_table_disciplines[0]\r\n",
    "df_table1 = df_table_disciplines[1]\r\n",
    "df_table2 = df_table_disciplines[2]\r\n"
   ]
  },
  {
   "cell_type": "code",
   "execution_count": 33,
   "metadata": {},
   "outputs": [],
   "source": [
    "pieces = {\"1\": df_table0,\"2\": df_table1,\"3\": df_table2}\r\n",
    "df_table_disciplines = pd.concat(pieces)\r\n",
    "\r\n"
   ]
  },
  {
   "cell_type": "code",
   "execution_count": 35,
   "metadata": {},
   "outputs": [],
   "source": [
    "df_table_disciplines.dropna(inplace=True)\r\n",
    "main_disciplines = df_table_disciplines.tolist()"
   ]
  },
  {
   "cell_type": "code",
   "execution_count": 43,
   "metadata": {},
   "outputs": [],
   "source": [
    "# test_comp = main_disciplines[0]\r\n",
    "# test_comp = 'Cycling Track'"
   ]
  },
  {
   "cell_type": "code",
   "execution_count": 46,
   "metadata": {},
   "outputs": [],
   "source": [
    "# empty dictionary to hold competition dfs\r\n",
    "all_competitions = {}"
   ]
  },
  {
   "cell_type": "code",
   "execution_count": 48,
   "metadata": {},
   "outputs": [
    {
     "name": "stdout",
     "output_type": "stream",
     "text": [
      "Going to 3x3 Basketball...\n",
      "3x3 Basketball completed.\n",
      "Going to Archery...\n",
      "Archery completed.\n",
      "Going to Artistic Gymnastics...\n",
      "Artistic Gymnastics completed.\n",
      "Going to Artistic Swimming...\n",
      "Artistic Swimming completed.\n",
      "Going to Athletics...\n",
      "Athletics completed.\n",
      "Going to Badminton...\n",
      "Badminton completed.\n",
      "Going to Baseball...\n",
      "Baseball completed.\n",
      "Going to Basketball...\n",
      "Basketball completed.\n",
      "Going to Beach Volleyball...\n",
      "Beach Volleyball completed.\n",
      "Going to Boxing...\n",
      "Boxing completed.\n",
      "Going to Canoe Slalom...\n",
      "Canoe Slalom completed.\n",
      "Going to Canoe Sprint...\n",
      "Canoe Sprint completed.\n",
      "Going to Cycling BMX Freestyle...\n",
      "Cycling BMX Freestyle completed.\n",
      "Going to Cycling BMX Racing...\n",
      "Cycling BMX Racing completed.\n",
      "Going to Cycling Mountain Bike...\n",
      "Cycling Mountain Bike completed.\n",
      "Going to Cycling Road...\n",
      "Cycling Road completed.\n",
      "Going to Cycling Track...\n",
      "Cycling Track completed.\n",
      "Going to Diving...\n",
      "Diving completed.\n",
      "Going to Equestrian Dressage...\n",
      "Equestrian Dressage completed.\n",
      "Going to Equestrian Eventing...\n",
      "Equestrian Eventing completed.\n",
      "Going to Fencing...\n",
      "Fencing completed.\n",
      "Going to Golf...\n",
      "Golf completed.\n",
      "Going to Hockey...\n",
      "Hockey completed.\n",
      "Going to Judo...\n",
      "Judo completed.\n",
      "Going to Karate...\n",
      "Karate completed.\n",
      "Going to Marathon Swimming...\n",
      "Marathon Swimming completed.\n",
      "Going to Modern Pentathlon...\n",
      "Modern Pentathlon completed.\n",
      "Going to Rhythmic Gymnastics...\n",
      "Rhythmic Gymnastics completed.\n",
      "Going to Rowing...\n",
      "Rowing completed.\n",
      "Going to Rugby Sevens...\n",
      "Rugby Sevens completed.\n",
      "Going to Sailing...\n",
      "Sailing completed.\n",
      "Going to Shooting...\n",
      "Shooting completed.\n",
      "Going to Skateboarding...\n",
      "Skateboarding completed.\n",
      "Going to Softball...\n",
      "Softball completed.\n",
      "Going to Sport Climbing...\n",
      "Sport Climbing completed.\n",
      "Going to Surfing...\n",
      "Surfing completed.\n",
      "Going to Swimming...\n",
      "Swimming completed.\n",
      "Going to Table Tennis...\n",
      "Table Tennis completed.\n",
      "Going to Taekwondo...\n",
      "Taekwondo completed.\n",
      "Going to Tennis...\n",
      "Tennis completed.\n",
      "Going to Trampolining...\n",
      "Trampolining completed.\n",
      "Going to Triathlon...\n",
      "Triathlon completed.\n",
      "Going to Weightlifting...\n",
      "Weightlifting completed.\n",
      "Going to Wrestling...\n",
      "Wrestling completed.\n"
     ]
    }
   ],
   "source": [
    "url = \"https://www.olympedia.org/editions/61\"\r\n",
    "\r\n",
    "browser.visit(url)\r\n",
    "\r\n",
    "page_url = browser.url\r\n",
    "\r\n",
    "for comp in main_disciplines:\r\n",
    "\r\n",
    "    print(f\"Going to {comp}...\")\r\n",
    "\r\n",
    "    browser.find_by_text(comp).click()\r\n",
    "\r\n",
    "    page_url = browser.url\r\n",
    "\r\n",
    "    all_competitions[comp] = pd.read_html(page_url)[2]\r\n",
    "\r\n",
    "    # add discipline\r\n",
    "    all_competitions[comp]['Discipline'] = comp\r\n",
    "\r\n",
    "    print(f\"{comp} completed.\")\r\n",
    "\r\n",
    "    browser.back()"
   ]
  },
  {
   "cell_type": "code",
   "execution_count": 49,
   "metadata": {},
   "outputs": [
    {
     "data": {
      "text/plain": [
       "44"
      ]
     },
     "execution_count": 49,
     "metadata": {},
     "output_type": "execute_result"
    }
   ],
   "source": [
    "# check dictionary\r\n",
    "len(all_competitions)"
   ]
  },
  {
   "cell_type": "code",
   "execution_count": 50,
   "metadata": {},
   "outputs": [
    {
     "data": {
      "text/plain": [
       "44"
      ]
     },
     "execution_count": 50,
     "metadata": {},
     "output_type": "execute_result"
    }
   ],
   "source": [
    "len(main_disciplines)\r\n"
   ]
  },
  {
   "cell_type": "code",
   "execution_count": 54,
   "metadata": {},
   "outputs": [
    {
     "name": "stdout",
     "output_type": "stream",
     "text": [
      "<class 'pandas.core.frame.DataFrame'>\n",
      "MultiIndex: 295 entries, ('3x3 Basketball', 0) to ('Wrestling', 16)\n",
      "Data columns (total 8 columns):\n",
      " #   Column      Non-Null Count  Dtype \n",
      "---  ------      --------------  ----- \n",
      " 0   Event       295 non-null    object\n",
      " 1   Gold        295 non-null    object\n",
      " 2   Gold.1      295 non-null    object\n",
      " 3   Silver      295 non-null    object\n",
      " 4   Silver.1    295 non-null    object\n",
      " 5   Bronze      295 non-null    object\n",
      " 6   Bronze.1    295 non-null    object\n",
      " 7   Discipline  295 non-null    object\n",
      "dtypes: object(8)\n",
      "memory usage: 20.7+ KB\n"
     ]
    },
    {
     "data": {
      "text/html": [
       "<div>\n",
       "<style scoped>\n",
       "    .dataframe tbody tr th:only-of-type {\n",
       "        vertical-align: middle;\n",
       "    }\n",
       "\n",
       "    .dataframe tbody tr th {\n",
       "        vertical-align: top;\n",
       "    }\n",
       "\n",
       "    .dataframe thead th {\n",
       "        text-align: right;\n",
       "    }\n",
       "</style>\n",
       "<table border=\"1\" class=\"dataframe\">\n",
       "  <thead>\n",
       "    <tr style=\"text-align: right;\">\n",
       "      <th></th>\n",
       "      <th></th>\n",
       "      <th>Event</th>\n",
       "      <th>Gold</th>\n",
       "      <th>Gold.1</th>\n",
       "      <th>Silver</th>\n",
       "      <th>Silver.1</th>\n",
       "      <th>Bronze</th>\n",
       "      <th>Bronze.1</th>\n",
       "      <th>Discipline</th>\n",
       "    </tr>\n",
       "  </thead>\n",
       "  <tbody>\n",
       "    <tr>\n",
       "      <th rowspan=\"2\" valign=\"top\">3x3 Basketball</th>\n",
       "      <th>0</th>\n",
       "      <td>3x3 Basketball, Men</td>\n",
       "      <td>Latvia</td>\n",
       "      <td>LAT</td>\n",
       "      <td>Russian Olympic Committee</td>\n",
       "      <td>ROC</td>\n",
       "      <td>Serbia</td>\n",
       "      <td>SRB</td>\n",
       "      <td>3x3 Basketball</td>\n",
       "    </tr>\n",
       "    <tr>\n",
       "      <th>1</th>\n",
       "      <td>3x3 Basketball, Women</td>\n",
       "      <td>United States</td>\n",
       "      <td>USA</td>\n",
       "      <td>Russian Olympic Committee</td>\n",
       "      <td>ROC</td>\n",
       "      <td>People's Republic of China</td>\n",
       "      <td>CHN</td>\n",
       "      <td>3x3 Basketball</td>\n",
       "    </tr>\n",
       "    <tr>\n",
       "      <th rowspan=\"3\" valign=\"top\">Archery</th>\n",
       "      <th>0</th>\n",
       "      <td>Individual, Men</td>\n",
       "      <td>Mete Gazoz</td>\n",
       "      <td>TUR</td>\n",
       "      <td>Mauro Nespoli</td>\n",
       "      <td>ITA</td>\n",
       "      <td>Takaharu Furukawa</td>\n",
       "      <td>JPN</td>\n",
       "      <td>Archery</td>\n",
       "    </tr>\n",
       "    <tr>\n",
       "      <th>1</th>\n",
       "      <td>Team, Men</td>\n",
       "      <td>Republic of Korea</td>\n",
       "      <td>KOR</td>\n",
       "      <td>Chinese Taipei</td>\n",
       "      <td>TPE</td>\n",
       "      <td>Japan</td>\n",
       "      <td>JPN</td>\n",
       "      <td>Archery</td>\n",
       "    </tr>\n",
       "    <tr>\n",
       "      <th>2</th>\n",
       "      <td>Individual, Women</td>\n",
       "      <td>An San</td>\n",
       "      <td>KOR</td>\n",
       "      <td>Yelena Osipova</td>\n",
       "      <td>ROC</td>\n",
       "      <td>Lucilla Boari</td>\n",
       "      <td>ITA</td>\n",
       "      <td>Archery</td>\n",
       "    </tr>\n",
       "  </tbody>\n",
       "</table>\n",
       "</div>"
      ],
      "text/plain": [
       "                                  Event               Gold Gold.1  \\\n",
       "3x3 Basketball 0    3x3 Basketball, Men             Latvia    LAT   \n",
       "               1  3x3 Basketball, Women      United States    USA   \n",
       "Archery        0        Individual, Men         Mete Gazoz    TUR   \n",
       "               1              Team, Men  Republic of Korea    KOR   \n",
       "               2      Individual, Women             An San    KOR   \n",
       "\n",
       "                                     Silver Silver.1  \\\n",
       "3x3 Basketball 0  Russian Olympic Committee      ROC   \n",
       "               1  Russian Olympic Committee      ROC   \n",
       "Archery        0              Mauro Nespoli      ITA   \n",
       "               1             Chinese Taipei      TPE   \n",
       "               2             Yelena Osipova      ROC   \n",
       "\n",
       "                                      Bronze Bronze.1      Discipline  \n",
       "3x3 Basketball 0                      Serbia      SRB  3x3 Basketball  \n",
       "               1  People's Republic of China      CHN  3x3 Basketball  \n",
       "Archery        0           Takaharu Furukawa      JPN         Archery  \n",
       "               1                       Japan      JPN         Archery  \n",
       "               2               Lucilla Boari      ITA         Archery  "
      ]
     },
     "execution_count": 54,
     "metadata": {},
     "output_type": "execute_result"
    }
   ],
   "source": [
    "df_2020_medals = pd.concat(all_competitions)\r\n",
    "df_2020_medals.info()\r\n",
    "df_2020_medals.head()"
   ]
  },
  {
   "cell_type": "code",
   "execution_count": 55,
   "metadata": {},
   "outputs": [],
   "source": [
    "df_2020_medals.to_clipboard()"
   ]
  },
  {
   "cell_type": "code",
   "execution_count": null,
   "metadata": {},
   "outputs": [],
   "source": []
  },
  {
   "cell_type": "code",
   "execution_count": 42,
   "metadata": {},
   "outputs": [],
   "source": [
    "browser.quit()"
   ]
  },
  {
   "cell_type": "code",
   "execution_count": null,
   "metadata": {},
   "outputs": [],
   "source": []
  }
 ],
 "metadata": {
  "interpreter": {
   "hash": "62479c27c4a62dbeee051a6978aa30762f6d540183c07f2f567557e7f85cb4c0"
  },
  "kernelspec": {
   "display_name": "Python 3.7.10 64-bit ('mlenv': conda)",
   "name": "python3"
  },
  "language_info": {
   "codemirror_mode": {
    "name": "ipython",
    "version": 3
   },
   "file_extension": ".py",
   "mimetype": "text/x-python",
   "name": "python",
   "nbconvert_exporter": "python",
   "pygments_lexer": "ipython3",
   "version": "3.7.10"
  },
  "orig_nbformat": 4
 },
 "nbformat": 4,
 "nbformat_minor": 2
}